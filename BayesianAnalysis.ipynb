{
  "cells": [
    {
      "cell_type": "raw",
      "metadata": {},
      "source": [
        "---\n",
        "title: \"Bayes Methods\"\n",
        "author: \"Bryana A.S. Thieret\"\n",
        "format: html\n",
        "---"
      ],
      "id": "6a75ea59"
    },
    {
      "cell_type": "markdown",
      "metadata": {},
      "source": [
        "```{tex}\n",
        "y_{it} \\sim N(\\theta_{it}\n",
        "```\n",
        "\n",
        "\n",
        "\n",
        "$$y_{it} \\sim N(\\theta_{it}, \\sigma^{2}_{it}) \\quad \\alpha_i \\sim N(0, 100000) \\\\ \\theta_{it} = \\alpha_i + \\beta_{i} \\cdot time_{it} \\quad \\mu \\sim N(0, 100000) \\\\ \\beta_{i} \\sim N(\\mu, \\tau^2) \\quad \\tau \\sim N(0, 100), \\: \\tau >0 $$   \n",
        "\n",
        "$y_{it} =$ observed effect at time-point t in study i  \n",
        "$\\sigma^2_{it} =$ is the variance of $y_{it}$  \n",
        "$\\theta_{it} =$ is the true effect at time point t in study i  \n",
        "$\\alpha_i \\: and \\: \\beta_i =$ respectively, the intercept and slope for the study-specific linear regression slope   \n",
        "$time_{it} =$ the time-point in study i at time t  \n",
        "$\\mu =$ overall trend  \n",
        "$\\tau^2 =$ is the variance in trend between studies  \n"
      ],
      "id": "a4872262"
    }
  ],
  "metadata": {
    "kernelspec": {
      "display_name": "Python 3",
      "language": "python",
      "name": "python3"
    }
  },
  "nbformat": 4,
  "nbformat_minor": 5
}